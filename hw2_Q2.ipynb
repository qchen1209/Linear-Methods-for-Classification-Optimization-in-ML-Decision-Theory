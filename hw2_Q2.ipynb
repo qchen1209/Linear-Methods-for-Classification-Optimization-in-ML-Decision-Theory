{
 "cells": [
  {
   "cell_type": "code",
   "execution_count": 1,
   "metadata": {},
   "outputs": [],
   "source": [
    "# import library\n",
    "from __future__ import absolute_import\n",
    "from __future__ import print_function\n",
    "from future.standard_library import install_aliases\n",
    "install_aliases()\n",
    "import numpy as np\n",
    "from scipy.special import logsumexp\n",
    "import os\n",
    "import gzip\n",
    "import struct\n",
    "import array\n",
    "import matplotlib.pyplot as plt\n",
    "import matplotlib.image\n",
    "from urllib.request import urlretrieve"
   ]
  },
  {
   "cell_type": "code",
   "execution_count": 2,
   "metadata": {},
   "outputs": [],
   "source": [
    "# starter code\n",
    "def download(url, filename):\n",
    "    if not os.path.exists('data'):\n",
    "        os.makedirs('data')\n",
    "    out_file = os.path.join('data', filename)\n",
    "    if not os.path.isfile(out_file):\n",
    "        urlretrieve(url, out_file)\n",
    "\n",
    "\n",
    "def mnist():\n",
    "    base_url = 'http://yann.lecun.com/exdb/mnist/'\n",
    "\n",
    "    def parse_labels(filename):\n",
    "        with gzip.open(filename, 'rb') as fh:\n",
    "            magic, num_data = struct.unpack(\">II\", fh.read(8))\n",
    "            return np.array(array.array(\"B\", fh.read()), dtype=np.uint8)\n",
    "\n",
    "    def parse_images(filename):\n",
    "        with gzip.open(filename, 'rb') as fh:\n",
    "            magic, num_data, rows, cols = struct.unpack(\">IIII\", fh.read(16))\n",
    "            return np.array(array.array(\"B\", fh.read()), dtype=np.uint8).reshape(num_data, rows, cols)\n",
    "\n",
    "    for filename in ['train-images-idx3-ubyte.gz',\n",
    "                     'train-labels-idx1-ubyte.gz',\n",
    "                     't10k-images-idx3-ubyte.gz',\n",
    "                     't10k-labels-idx1-ubyte.gz']:\n",
    "        download(base_url + filename, filename)\n",
    "\n",
    "    train_images = parse_images('data/train-images-idx3-ubyte.gz')\n",
    "    train_labels = parse_labels('data/train-labels-idx1-ubyte.gz')\n",
    "    test_images = parse_images('data/t10k-images-idx3-ubyte.gz')\n",
    "    test_labels = parse_labels('data/t10k-labels-idx1-ubyte.gz')\n",
    "\n",
    "    return train_images, train_labels, test_images[:1000], test_labels[:1000]\n",
    "\n",
    "\n",
    "def load_mnist(N_data=None):\n",
    "    partial_flatten = lambda x: np.reshape(x, (x.shape[0], np.prod(x.shape[1:])))\n",
    "    one_hot = lambda x, k: np.array(x[:, None] == np.arange(k)[None, :], dtype=int)\n",
    "    train_images, train_labels, test_images, test_labels = mnist()\n",
    "    train_images = (partial_flatten(train_images) / 255.0 > .5).astype(float)\n",
    "    test_images = (partial_flatten(test_images) / 255.0 > .5).astype(float)\n",
    "    K_data = 10\n",
    "    train_labels = one_hot(train_labels, K_data)\n",
    "    test_labels = one_hot(test_labels, K_data)\n",
    "    if N_data is not None:\n",
    "        train_images = train_images[:N_data, :]\n",
    "        train_labels = train_labels[:N_data, :]\n",
    "\n",
    "    return train_images, train_labels, test_images, test_labels\n",
    "\n",
    "\n",
    "def plot_images(images, ax, ims_per_row=5, padding=5, digit_dimensions=(28, 28),\n",
    "                cmap=matplotlib.cm.binary, vmin=None, vmax=None):\n",
    "    \"\"\"Images should be a (N_images x pixels) matrix.\"\"\"\n",
    "    N_images = images.shape[0]\n",
    "    N_rows = np.int32(np.ceil(float(N_images) / ims_per_row))\n",
    "    pad_value = np.min(images.ravel())\n",
    "    concat_images = np.full(((digit_dimensions[0] + padding) * N_rows + padding,\n",
    "                             (digit_dimensions[1] + padding) * ims_per_row + padding), pad_value)\n",
    "    for i in range(N_images):\n",
    "        cur_image = np.reshape(images[i, :], digit_dimensions)\n",
    "        row_ix = i // ims_per_row\n",
    "        col_ix = i % ims_per_row\n",
    "        row_start = padding + (padding + digit_dimensions[0]) * row_ix\n",
    "        col_start = padding + (padding + digit_dimensions[1]) * col_ix\n",
    "        concat_images[row_start: row_start + digit_dimensions[0],\n",
    "                      col_start: col_start + digit_dimensions[1]] = cur_image\n",
    "        cax = ax.matshow(concat_images, cmap=cmap, vmin=vmin, vmax=vmax)\n",
    "        plt.xticks(np.array([]))\n",
    "        plt.yticks(np.array([]))\n",
    "    return cax\n",
    "\n",
    "\n",
    "def save_images(images, filename, **kwargs):\n",
    "    fig = plt.figure(1)\n",
    "    fig.clf()\n",
    "    ax = fig.add_subplot(111)\n",
    "    plot_images(images, ax, **kwargs)\n",
    "    fig.patch.set_visible(False)\n",
    "    ax.patch.set_visible(False)\n",
    "    plt.savefig(filename)"
   ]
  },
  {
   "cell_type": "code",
   "execution_count": 3,
   "metadata": {},
   "outputs": [],
   "source": [
    "def log_softmax(images, weights, w0=None):\n",
    "    \"\"\" Used in Q1 and Q2\n",
    "        Inputs: images, and weights\n",
    "        Returns the log_softmax values.\"\"\"\n",
    "    if w0 is None: w0 = np.zeros(weights.shape[1])\n",
    "\n",
    "    # YOU NEED TO WRITE THIS PART\n",
    "    # transfer Y into log softmax function\n",
    "    predictions = np.dot(images, weights)  # (w^T)X\n",
    "    exp_sum_predictions = logsumexp(predictions, axis=1, keepdims=True)  # ln(sum(exp((w^T)X)))\n",
    "    log_Y = predictions - exp_sum_predictions  # (w^T)X - ln(sum(exp((w^T)X)))\n",
    "\n",
    "    return log_Y"
   ]
  },
  {
   "cell_type": "code",
   "execution_count": 4,
   "metadata": {},
   "outputs": [],
   "source": [
    "def predict(log_Y):\n",
    "    \"\"\" Used in Q1 and Q2\n",
    "        Inputs: matrix of log softmax values\n",
    "        Returns the predictions\"\"\"\n",
    "\n",
    "    # YOU NEED TO WRITE THIS PART\n",
    "    # Label the largest probability in each row as 1, the rest are 0s\n",
    "    # keep the number in float32\n",
    "    # The results would be like [[0,1,0,0,0,0,0,0,0,0],......]\n",
    "    prediction = (log_Y == np.max(log_Y, axis=1, keepdims=True)).astype(np.float32)\n",
    "    \n",
    "        \n",
    "    return prediction"
   ]
  },
  {
   "cell_type": "code",
   "execution_count": 5,
   "metadata": {},
   "outputs": [],
   "source": [
    "def accuracy(log_Y, labels):\n",
    "    \"\"\" Used in Q1 and Q2\n",
    "        Inputs: matrix of log softmax values and 1-of-K labels\n",
    "        Returns the accuracy based on predictions from log likelihood values\"\"\"\n",
    "    \n",
    "    # YOU NEED TO WRITE THIS PART\n",
    "    prediction_new = predict(log_Y)\n",
    "    \n",
    "    # prediction_new would be like [[0,1,0,0,0,0,0,0,0,0],......]\n",
    "    # prediction_new == 1 would create TRUE OR FALSE\n",
    "    # labels would be like [[0,1,0,0,0,0,0,0,0,0],......]\n",
    "    # labels == 1 would create TRUE OR FALSE as well\n",
    "    # if at any one of position of prediction_new and labels both are True, then return 1, else we will get 0\n",
    "    # In this example above, we have a one\n",
    "    accuracy = ((prediction_new == 1) & (labels == 1)).any(axis=1).astype(np.float32)\n",
    "    \n",
    "    return accuracy"
   ]
  },
  {
   "cell_type": "code",
   "execution_count": 23,
   "metadata": {},
   "outputs": [],
   "source": [
    "def train_gda(images, labels):\n",
    "    \"\"\" Used in Q2\n",
    "        Inputs: train_images, train_labels\n",
    "        Returns the trained weights, the intercept, and D x K class means, \n",
    "        and D x D common covariance matrix.\"\"\"\n",
    "    N_data, D_data = images.shape\n",
    "    K_data = labels.shape[1]\n",
    "\n",
    "    \n",
    "    # YOU NEED TO WRITE THIS PART\n",
    "    # Add dimensions to matrices in order to do matrix multiplications\n",
    "    t_nk = np.expand_dims(labels, axis=2)  # N*C*1 dimension\n",
    "    x_n = np.expand_dims(images, axis=1)  # N*1*D dimension\n",
    "    numerator =  np.sum(x_n * t_nk, axis=0) # without np.sum, dimension N*C*D; (T^T)X dimension C*D\n",
    "    denominator = np.sum(t_nk, axis=0) # T dimension C*D\n",
    "    miu = numerator / denominator  # (T^T)X/T\n",
    "\n",
    "    \n",
    "    x = np.expand_dims(images, axis=2)  # N*D*1 dimension\n",
    "    miu_k = np.expand_dims(miu, axis=2)  # C*D*1 dimension\n",
    "    \n",
    "    # initialization\n",
    "    sigma = []\n",
    "    for k in range(K_data):\n",
    "        # X - Miu\n",
    "        minus = x - miu_k[k:(k+1)]  # dimension N*D*1 (X-miu)\n",
    "        sigma_k = np.matmul(minus, np.transpose(minus, [0, 2, 1]))  # matrix multiplication ((X-miu)^T)(X-miu)\n",
    "        # N*D*1 x N*1*D  = N*D*D \n",
    "        numerator_new = np.sum(labels[:, k:k+1, np.newaxis] * sigma_k, axis=0) # summation\n",
    "        # np.newaxis increase one dimension\n",
    "        denominator_new = np.sum(labels[:, k:k+1]) # N_k\n",
    "        sigma_k = numerator_new / denominator_new\n",
    "        sigma.append(sigma_k)  # dimension D*D\n",
    "        \n",
    "    sigma = np.stack(sigma, axis=0)  # dimension C*D*D\n",
    "    \n",
    "    # percentage of samples in each class\n",
    "    percentage = np.expand_dims(np.mean(labels, axis=0), axis=[1, 2]) # dimension C*1*1; N_k/N\n",
    "    Sigma = np.sum(percentage * sigma, axis=0)\n",
    "\n",
    "    # calculation of weights\n",
    "    # np.eye returns a 2-D array with ones on the diagonal and zeros elsewhere.\n",
    "    # add epsilon I to make sigma invertible in case\n",
    "    weights = np.dot(np.linalg.pinv(Sigma + 1. / 5000 * np.eye(D_data)), miu.T) # (sigma^-1)(miu)\n",
    "    \n",
    "    # calculation of w0\n",
    "    prior = np.mean(labels, axis=0)  # T_nk / N; N_k/N\n",
    "    w0 = - 0.5 * np.diagonal(np.dot(miu, weights)) + np.log(prior) # -(1/2)*(miu^T)(sigma^-1)(miu) + log(p(C_k))\n",
    "    \n",
    "    return weights, w0, miu, Sigma"
   ]
  },
  {
   "cell_type": "markdown",
   "metadata": {},
   "source": [
    "(b) Plot the means of each class as an image.\n",
    "The 10 images are ploted below. N_data = 5000"
   ]
  },
  {
   "cell_type": "code",
   "execution_count": 25,
   "metadata": {
    "scrolled": true
   },
   "outputs": [
    {
     "data": {
      "image/png": "[encoded data removed]",
      "text/plain": [
       "<Figure size 432x288 with 1 Axes>"
      ]
     },
     "metadata": {},
     "output_type": "display_data"
    }
   ],
   "source": [
    "\n",
    "    N_data = 5000 # Num of samples to be used in training\n",
    "    # Set this to a small number while experimenting.\n",
    "    # For log reg, finally use the entire training dataset for training (N_data=None).\n",
    "    # For gda, use as many training samples as your computer can handle.\n",
    "    \n",
    "    train_images, train_labels, test_images, test_labels = load_mnist(N_data)\n",
    "\n",
    "    # Q2: train gaussian discriminant\n",
    "    weights, w0, Mu, Sigma = train_gda(train_images, train_labels)\n",
    "    save_images(Mu, 'means.png')\n"
   ]
  },
  {
   "cell_type": "markdown",
   "metadata": {},
   "source": [
    "(c) Report the obatined accuracy in each dataset. Report the number of training images used to compute the MLE estimators.\n",
    "\n",
    "The training accuracy is 89.1%.\n",
    "The test accuracy is 78.1%.\n",
    "The training error is 10.9%.\n",
    "The test error is 21.9%.\n",
    "The number of samples used in training is 5000."
   ]
  },
  {
   "cell_type": "markdown",
   "metadata": {},
   "source": [
    "(d) Briefly compare the performance of this model to that of logistic regression\n",
    "\n",
    "The performance of this model is a little bit worse than that of logistic regression.\n",
    "The training accuracy for the generative model is smaller than the discriminative model. (0.891 < 0.894)\n",
    "The test accuracy for for the generative model is even less than the discriminative model. (0.781 < 0.881)\n",
    "Notice that the number of samples used to obtain the results is different for these two models. Also notice that the images generated by the means are clearer than the images generated by the weights."
   ]
  },
  {
   "cell_type": "code",
   "execution_count": 37,
   "metadata": {},
   "outputs": [
    {
     "name": "stdout",
     "output_type": "stream",
     "text": [
      "The training accuracy is  0.891\n",
      "The training error is  0.109\n",
      "The test accuracy is  0.781\n",
      "The test error is  0.219\n"
     ]
    },
    {
     "data": {
      "image/png": "[encoded data removed]",
      "text/plain": [
       "<Figure size 432x288 with 1 Axes>"
      ]
     },
     "metadata": {},
     "output_type": "display_data"
    }
   ],
   "source": [
    "    new_digit = 3\n",
    "    new_images = np.random.multivariate_normal(Mu.T[:, new_digit], Sigma, 10)\n",
    "    save_images((new_images > .5).astype(float), 'new_images.png')\n",
    "    \n",
    "    # evaluation\n",
    "    log_softmax_train = log_softmax(train_images, weights, w0)\n",
    "    log_softmax_test = log_softmax(test_images, weights, w0)\n",
    "    \n",
    "    train_accuracy = accuracy(log_softmax_train, train_labels)\n",
    "    training_accuracy_final = np.mean(train_accuracy)\n",
    "    training_error =  1 - training_accuracy_final\n",
    "    \n",
    "    test_accuracy = accuracy(log_softmax_test[:5000], test_labels[:5000])\n",
    "    test_accuracy_final = np.mean(test_accuracy)\n",
    "    test_error =  1 - test_accuracy_final\n",
    "\n",
    "    print(\"The training accuracy is \", round(training_accuracy_final,3))\n",
    "    print(\"The training error is \", round(training_error,3))\n",
    "    print(\"The test accuracy is \", test_accuracy_final)\n",
    "    print(\"The test error is \", round(test_error,3))"
   ]
  },
  {
   "cell_type": "code",
   "execution_count": 38,
   "metadata": {},
   "outputs": [
    {
     "data": {
      "image/png": "[encoded data removed]",
      "text/plain": [
       "<Figure size 432x288 with 1 Axes>"
      ]
     },
     "metadata": {},
     "output_type": "display_data"
    }
   ],
   "source": [
    "new_digit = 0\n",
    "new_images = np.random.multivariate_normal(Mu.T[:, new_digit], Sigma, 10)\n",
    "save_images((new_images > .5).astype(float), 'new_images.png')"
   ]
  },
  {
   "cell_type": "markdown",
   "metadata": {},
   "source": [
    "(e) Generate 10 images from digit 0 and 10 images from digit 3\n",
    "\n",
    "The above two images are 20 images we generated from the generative model."
   ]
  }
 ],
 "metadata": {
  "kernelspec": {
   "display_name": "Python 3",
   "language": "python",
   "name": "python3"
  },
  "language_info": {
   "codemirror_mode": {
    "name": "ipython",
    "version": 3
   },
   "file_extension": ".py",
   "mimetype": "text/x-python",
   "name": "python",
   "nbconvert_exporter": "python",
   "pygments_lexer": "ipython3",
   "version": "3.8.5"
  }
 },
 "nbformat": 4,
 "nbformat_minor": 4
}
